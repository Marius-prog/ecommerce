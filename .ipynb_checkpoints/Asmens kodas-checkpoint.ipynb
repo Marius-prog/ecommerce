{
 "cells": [
  {
   "cell_type": "markdown",
   "metadata": {},
   "source": [
    "# Asmens kodas\n",
    "---\n",
    "\n",
    "<center>Rytis Antanavičius</center>\n",
    "<center>bit@odoopaslaugos.lt</center>\n",
    "\n",
    "---\n"
   ]
  },
  {
   "cell_type": "markdown",
   "metadata": {},
   "source": [
    "## Užduotis 1\n",
    "Pasidarykite asmens kodo tikrnimą. T.y. įvedus asmens kodą Jūs turite patikrinti ar kontrolinis skaičius teisingas.\n",
    "\n",
    "Algoritmą rasite: https://lt.wikipedia.org/wiki/Asmens_kodas\n",
    "P. s. tik asmens kodo nedėkite į kodą.Turite naudoti įvestį 'input`\n",
    "Susikurkite keletą realių knygų įrašų. Įraše turi būti: \n",
    "\n",
    "* Knygos pavadinimas: pvz ‘Harry Potter’\n",
    "* Autoriaus vardas ir pavardė: pvz: ‘Kate Rowling’\n",
    "* Knygos išleidimo data:  pvz.  2005\n",
    "\n",
    "Sukurti mažiausiai po dvi to paties autoriaus knygas pvz.: `Kate Rowling` ir `Mark Twain`.\n"
   ]
  },
  {
   "cell_type": "markdown",
   "metadata": {},
   "source": [
    "## Užduotis 2\n",
    "Sukurti unikalų autorių sarašą su to autoriaus knygų kiekiu pvz.:\n",
    "```python\n",
    "books_store = {\n",
    "    'authors': {'Kate Rowling', 1},\n",
    "    'books': [\n",
    "        {'title': 'Harry Potter', 'author': 'Kate Rowling', 'year': 2000},\n",
    "    ]\n",
    "}\n",
    "```\n"
   ]
  },
  {
   "cell_type": "markdown",
   "metadata": {},
   "source": [
    "## Užduotis 3\n",
    "Sukurti inventorizacijos sistemą bibliotekai.\n",
    "\n",
    "Turi būti galimybė turėti knygų kiekį pvz.:\n",
    "```python\n",
    "books_store = {\n",
    "    'books': [\n",
    "        {'title': 'Harry Potter', 'author': 'Kate Rowling', 'year': 2000, 'quantity': 1},\n",
    "    ]\n",
    "}\n",
    "```\n"
   ]
  },
  {
   "cell_type": "markdown",
   "metadata": {},
   "source": [
    "## Užduotis 4\n",
    "Sukurti paieškos sistemą bibliotekai.\n",
    "\n",
    "Sukurkite funkciją search(), kuri surastų knygas pagal: autoriaus vardą ir pavardę, knygos pavadinimą, datą.\n",
    "\n",
    "Turi būti galimybė ieškoti tik pagal nurodytus kriterijus\n"
   ]
  },
  {
   "cell_type": "code",
   "execution_count": 3,
   "metadata": {},
   "outputs": [],
   "source": []
  }
 ],
 "metadata": {
  "kernelspec": {
   "display_name": "Python 3",
   "language": "python",
   "name": "python3"
  },
  "language_info": {
   "codemirror_mode": {
    "name": "ipython",
    "version": 3
   },
   "file_extension": ".py",
   "mimetype": "text/x-python",
   "name": "python",
   "nbconvert_exporter": "python",
   "pygments_lexer": "ipython3",
   "version": "3.7.6"
  }
 },
 "nbformat": 4,
 "nbformat_minor": 4
}
