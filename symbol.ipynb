{
 "cells": [
  {
   "cell_type": "code",
   "execution_count": 2,
   "metadata": {},
   "outputs": [],
   "source": [
    "# symbol"
   ]
  },
  {
   "cell_type": "code",
   "execution_count": 3,
   "metadata": {},
   "outputs": [],
   "source": [
    "data = 'mano stringas su indexu'"
   ]
  },
  {
   "cell_type": "code",
   "execution_count": 49,
   "metadata": {},
   "outputs": [
    {
     "name": "stdout",
     "output_type": "stream",
     "text": [
      "mano stringas su index m\n",
      "ano stringas su index a\n",
      "no stringas su index n\n",
      "o stringas su index o\n",
      " stringas su index  \n",
      "stringas su index s\n",
      "tringas su index t\n",
      "ringas su index r\n",
      "ingas su index i\n",
      "ngas su index n\n",
      "gas su index g\n",
      "as su index a\n",
      "s su index s\n",
      " su index  \n",
      "su index s\n",
      "u index u\n",
      " index  \n",
      "index i\n",
      "ndex n\n",
      "dex d\n",
      "ex e\n",
      "x x\n",
      " u\n"
     ]
    }
   ],
   "source": [
    "for i, k in enumerate(data):\n",
    "    x = data[i:-1]\n",
    "    print(x,k)\n",
    "    k = i-4\n",
    "    "
   ]
  },
  {
   "cell_type": "code",
   "execution_count": null,
   "metadata": {},
   "outputs": [],
   "source": []
  },
  {
   "cell_type": "code",
   "execution_count": null,
   "metadata": {},
   "outputs": [],
   "source": []
  },
  {
   "cell_type": "code",
   "execution_count": null,
   "metadata": {},
   "outputs": [],
   "source": []
  }
 ],
 "metadata": {
  "kernelspec": {
   "display_name": "Python 3",
   "language": "python",
   "name": "python3"
  },
  "language_info": {
   "codemirror_mode": {
    "name": "ipython",
    "version": 3
   },
   "file_extension": ".py",
   "mimetype": "text/x-python",
   "name": "python",
   "nbconvert_exporter": "python",
   "pygments_lexer": "ipython3",
   "version": "3.8.3"
  }
 },
 "nbformat": 4,
 "nbformat_minor": 4
}
